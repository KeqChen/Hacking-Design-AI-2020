{
 "cells": [
  {
   "cell_type": "markdown",
   "metadata": {},
   "source": [
    "# 问题转化为向量空间的数学运算"
   ]
  },
  {
   "cell_type": "code",
   "execution_count": null,
   "metadata": {},
   "outputs": [],
   "source": [
    "import numpy as np\n",
    "\n",
    "def cos_sim(vector_a, vector_b):\n",
    "    \"\"\"\n",
    "    计算两个向量之间的余弦相似度\n",
    "    :param vector_a: 向量 a \n",
    "    :param vector_b: 向量 b\n",
    "    :return: sim\n",
    "    \"\"\"\n",
    "    vector_a = np.mat(vector_a)\n",
    "    vector_b = np.mat(vector_b)\n",
    "    \n",
    "    num = float(vector_a * vector_b.T)\n",
    "    denom = np.linalg.norm(vector_a) * np.linalg.norm(vector_b)\n",
    "    \n",
    "    cos = num / denom\n",
    "    sim = 0.5 + 0.5 * cos\n",
    "    \n",
    "    return sim\n",
    "\n",
    "import tensorflow_hub as hub\n",
    "\n",
    "\n",
    "embed = hub.load(\"model/nnlm-zh-dim50\")\n",
    "\n",
    "\n"
   ]
  },
  {
   "cell_type": "code",
   "execution_count": null,
   "metadata": {},
   "outputs": [],
   "source": [
    "embed([\"学生\",\"同学\"])\n",
    "# zhou'm"
   ]
  },
  {
   "cell_type": "code",
   "execution_count": null,
   "metadata": {},
   "outputs": [],
   "source": [
    "def embeddings_cos_sim(ab):\n",
    "    embeddings = embed(ab)\n",
    "    B=embeddings.numpy()[1]\n",
    "    A=embeddings.numpy()[0]\n",
    "    print(ab,cos_sim(A,B))\n",
    "\n",
    "    \n",
    "#embeddings_cos_sim([\"猫\",\"狗\"])\n",
    "\n",
    "\n",
    "#embeddings_cos_sim([\"狗\",\"桌子\"])\n",
    "\n",
    "embeddings_cos_sim([\"建筑设计\",\"空间设计\"])\n",
    "\n",
    "# embeddings_cos_sim([\"设计\",\"数学\"])\n",
    "# embeddings_cos_sim([\"设计\",\"编程\"])\n"
   ]
  },
  {
   "cell_type": "markdown",
   "metadata": {},
   "source": [
    "# 特征工程、机器学习"
   ]
  },
  {
   "cell_type": "code",
   "execution_count": null,
   "metadata": {},
   "outputs": [],
   "source": [
    "from sklearn import datasets\n",
    "\n",
    "import matplotlib.pyplot as plt\n",
    "\n",
    "import numpy as np\n",
    "\n",
    "from sklearn import tree\n",
    "\n",
    "# Iris数据集是常用的分类实验数据集，\n",
    "# 由Fisher, 1936收集整理。Iris也称鸢尾花卉数据集，\n",
    "# 是一类多重变量分析的数据集。数据集包含150个数据集，\n",
    "# 分为3类，每类50个数据，每个数据包含4个属性。\n",
    "# 可通过花萼长度，花萼宽度，花瓣长度，花瓣宽度4个属性预测鸢尾花卉属于（Setosa，Versicolour，Virginica）三个种类中的哪一类。\n",
    "\n",
    "#载入数据集\n",
    "iris = datasets.load_iris()\n",
    "#print(iris)\n",
    "iris_data=iris['data']\n",
    "#print(iris_data[0])\n",
    "\n",
    "iris_label=iris['target']\n",
    "#print(iris_label[0])\n",
    "iris_target_name=iris['target_names']\n",
    "print(iris_target_name)\n",
    "\n",
    "# X=np.array(iris_data)\n",
    "# Y=np.array(iris_label)\n",
    "\n",
    "# print(X[0],iris_target_name[0])\n",
    "\n",
    "# # #训练,决策树\n",
    "# model=tree.DecisionTreeClassifier(max_depth=3)\n",
    "# # 开始训练\n",
    "# model.fit(X,Y)\n",
    " \n",
    "# #这里预测当前输入的值的所属分类\n",
    "# print('预测类别是',iris_target_name[clf.predict([[5,3,1,0.1]])[0]])\n",
    "\n"
   ]
  },
  {
   "cell_type": "code",
   "execution_count": null,
   "metadata": {},
   "outputs": [],
   "source": [
    "k=[1,2,3,4]\n",
    "k[0]"
   ]
  },
  {
   "cell_type": "code",
   "execution_count": null,
   "metadata": {},
   "outputs": [],
   "source": [
    "#print(X.shape , np.array([X[0]]).shape)\n",
    "\n",
    "model.predict([ [1,3,0.5,6] ] )[0]\n",
    "print('预测类别是',iris_target_name[0])"
   ]
  },
  {
   "cell_type": "markdown",
   "metadata": {},
   "source": [
    "# 深度学习-表示学习，万物皆向量"
   ]
  },
  {
   "cell_type": "code",
   "execution_count": null,
   "metadata": {},
   "outputs": [],
   "source": [
    "import tensorflow_hub as hub\n",
    "embed = hub.load(\"model/nnlm-zh-dim50\")\n",
    "embeddings = embed([\"猫\",\"狗\"])"
   ]
  },
  {
   "cell_type": "code",
   "execution_count": null,
   "metadata": {},
   "outputs": [],
   "source": [
    "embeddings = embed([\"狗\",\"桌子\"])"
   ]
  },
  {
   "cell_type": "code",
   "execution_count": null,
   "metadata": {},
   "outputs": [],
   "source": [
    "embeddings = embed([\"男人\",\"女人\"])"
   ]
  },
  {
   "cell_type": "code",
   "execution_count": null,
   "metadata": {},
   "outputs": [],
   "source": [
    "B=embeddings.numpy()[1]\n",
    "A=embeddings.numpy()[0]"
   ]
  },
  {
   "cell_type": "code",
   "execution_count": null,
   "metadata": {},
   "outputs": [],
   "source": [
    "def cos_sim(vector_a, vector_b):\n",
    "    \"\"\"\n",
    "    计算两个向量之间的余弦相似度\n",
    "    :param vector_a: 向量 a \n",
    "    :param vector_b: 向量 b\n",
    "    :return: sim\n",
    "    \"\"\"\n",
    "    vector_a = np.mat(vector_a)\n",
    "    vector_b = np.mat(vector_b)\n",
    "    num = float(vector_a * vector_b.T)\n",
    "    denom = np.linalg.norm(vector_a) * np.linalg.norm(vector_b)\n",
    "    cos = num / denom\n",
    "    sim = 0.5 + 0.5 * cos\n",
    "    return sim\n",
    "cos_sim(A,B)"
   ]
  },
  {
   "cell_type": "code",
   "execution_count": null,
   "metadata": {},
   "outputs": [],
   "source": [
    "#欧氏距离和余弦相似度\n",
    "def dist_sim(vector_a, vector_b):\n",
    "    vector_a = np.mat(vector_a)\n",
    "    vector_b = np.mat(vector_b)\n",
    "    dist = np.linalg.norm(vector_a - vector_b)  \n",
    "    sim = 1.0 / (1.0 + dist) #归一化  \n",
    "    return sim"
   ]
  },
  {
   "cell_type": "code",
   "execution_count": null,
   "metadata": {},
   "outputs": [],
   "source": [
    "dist_sim(A,B)"
   ]
  },
  {
   "cell_type": "markdown",
   "metadata": {},
   "source": [
    "# 机器学习 分类\n",
    "## 找出群体中的KOL\n",
    "### 对比欧式距离与余弦相似度"
   ]
  },
  {
   "cell_type": "code",
   "execution_count": null,
   "metadata": {},
   "outputs": [],
   "source": [
    "#加载数据\n",
    "import pandas as pd\n",
    "df = pd.read_csv(\"data/students.csv\")"
   ]
  },
  {
   "cell_type": "code",
   "execution_count": null,
   "metadata": {},
   "outputs": [],
   "source": [
    "#查看下数据的前几条\n",
    "df.head()"
   ]
  },
  {
   "cell_type": "code",
   "execution_count": null,
   "metadata": {},
   "outputs": [],
   "source": [
    "#取需要的列\n",
    "student=df.loc[1,['Name','Email','School','Major','grade','Interest','Interest level','Code']].values.tolist()"
   ]
  },
  {
   "cell_type": "code",
   "execution_count": null,
   "metadata": {},
   "outputs": [],
   "source": [
    "#加载 预训练模型\n",
    "import tensorflow_hub as hub\n",
    "embed = hub.load(\"model/nnlm-zh-dim50\")"
   ]
  },
  {
   "cell_type": "code",
   "execution_count": null,
   "metadata": {},
   "outputs": [],
   "source": [
    "# 测试下\n",
    "embeddings = embed([\"\".join(student)])[0]\n",
    "embeddings.numpy()"
   ]
  },
  {
   "cell_type": "code",
   "execution_count": null,
   "metadata": {},
   "outputs": [],
   "source": [
    "#把特征转成 稠密向量\n",
    "students=[]\n",
    "for i in range(len(df)):\n",
    "    #print(i)\n",
    "    student=df.loc[i,['Email','School','Major','grade','Interest','Interest level','Code']].values.tolist()\n",
    "    students.append(embed([\"\".join(student)])[0].numpy())\n",
    "students=np.array(students)"
   ]
  },
  {
   "cell_type": "code",
   "execution_count": null,
   "metadata": {},
   "outputs": [],
   "source": [
    "#每位同学的稠密向量\n",
    "students"
   ]
  },
  {
   "cell_type": "code",
   "execution_count": null,
   "metadata": {},
   "outputs": [],
   "source": [
    "#使用scikit learn的余弦相似度计算方法\n",
    "from sklearn.metrics.pairwise import cosine_similarity\n",
    "sim=cosine_similarity(students)\n",
    "#查看下第一位与第二位同学的相似度\n",
    "sim[0][1]"
   ]
  },
  {
   "cell_type": "code",
   "execution_count": null,
   "metadata": {},
   "outputs": [],
   "source": [
    "#为每位同学计算与他最相似的一位同学，只取相似度大于0.6的第一位同学\n",
    "count_students={}\n",
    "for i in range(len(students)):\n",
    "    others=[]\n",
    "    for j in range(len(students)):\n",
    "        if i!=j:\n",
    "            others.append({\n",
    "                \"index\":j,\n",
    "                \"score\":sim[i][j]\n",
    "            })\n",
    "    others=sorted(others, key=lambda x:x[\"score\"],reverse=True)\n",
    "    if others[0]['score']>0.6:\n",
    "        print(df.loc[i,'Name'],df.loc[others[0]['index'],'Name'],others[0]['score']) \n",
    "        if not df.loc[others[0]['index'],'Name'] in count_students:\n",
    "            count_students[df.loc[others[0]['index'],'Name']]=0\n",
    "        count_students[df.loc[others[0]['index'],'Name']]+=others[0]['score']"
   ]
  },
  {
   "cell_type": "code",
   "execution_count": null,
   "metadata": {},
   "outputs": [],
   "source": [
    "# 不太可能是kol的同学（与其他同学相似性较低)\n",
    "for i in range(len(students)):\n",
    "    if not df.loc[i,'Name'] in count_students:\n",
    "        print(df.loc[i,'Name'])"
   ]
  },
  {
   "cell_type": "code",
   "execution_count": null,
   "metadata": {},
   "outputs": [],
   "source": [
    "# 最有可能是kol的同学\n",
    "sorted(count_students.items(), key=lambda x:x[1],reverse=True)"
   ]
  },
  {
   "cell_type": "markdown",
   "metadata": {},
   "source": [
    "# 聚类算法\n",
    "### 聚类班级学生"
   ]
  },
  {
   "cell_type": "code",
   "execution_count": null,
   "metadata": {},
   "outputs": [],
   "source": [
    "#引入库，并测试\n",
    "from sklearn.cluster import KMeans,DBSCAN,Birch\n",
    "import numpy as np\n",
    "\n",
    "X = np.array([[1,2, 2], [1,2, 4], [1,2, 0],[4, 2,2], [4,2, 4], [4,1, 0]])\n",
    "\n",
    "kmeans = KMeans(n_clusters=2, random_state=0).fit(X)\n",
    "\n",
    "kmeans.labels_ #输出原始数据的聚类后的标签值\n"
   ]
  },
  {
   "cell_type": "code",
   "execution_count": null,
   "metadata": {},
   "outputs": [],
   "source": [
    "#设置数量\n",
    "model = KMeans(n_clusters =2)"
   ]
  },
  {
   "cell_type": "code",
   "execution_count": null,
   "metadata": {},
   "outputs": [],
   "source": [
    "#训练\n",
    "model.fit(students)"
   ]
  },
  {
   "cell_type": "code",
   "execution_count": null,
   "metadata": {},
   "outputs": [],
   "source": [
    "for i in range(len(model.labels_)):\n",
    "    if model.labels_[i]==0:\n",
    "        print(df.loc[i,'Name'])\n",
    "    "
   ]
  },
  {
   "cell_type": "code",
   "execution_count": null,
   "metadata": {},
   "outputs": [],
   "source": [
    "#换一种\n",
    "model=DBSCAN(eps=0.11, min_samples=2).fit(students)\n",
    "print(model.labels_)"
   ]
  },
  {
   "cell_type": "code",
   "execution_count": null,
   "metadata": {},
   "outputs": [],
   "source": [
    "#换一种\n",
    "model = Birch(n_clusters=2)\n",
    "model.fit(students)\n",
    "print(model.labels_)"
   ]
  },
  {
   "cell_type": "code",
   "execution_count": null,
   "metadata": {},
   "outputs": [],
   "source": [
    "# 可视化查看模型学习到的分类\n",
    "from sklearn.manifold import TSNE\n",
    "import matplotlib.pyplot as plt\n",
    "\n",
    "tsne = TSNE(n_components=2)\n",
    "decomposition_data = tsne.fit_transform(students)\n",
    "\n",
    "x = []\n",
    "y = []\n",
    " \n",
    "for i in decomposition_data:\n",
    "    x.append(i[0])\n",
    "    y.append(i[1])\n",
    "    \n",
    "plt.figure(figsize=(10, 10)) \n",
    "ax = plt.axes() \n",
    "plt.scatter(x, y, c=model.labels_, marker=\"x\") \n",
    "plt.xticks(()) \n",
    "plt.yticks(()) \n",
    "plt.show()"
   ]
  },
  {
   "cell_type": "markdown",
   "metadata": {},
   "source": [
    "# 深度学习 hello world\n",
    "### 手写数字分类"
   ]
  },
  {
   "cell_type": "code",
   "execution_count": null,
   "metadata": {},
   "outputs": [],
   "source": [
    "%load_ext tensorboard\n",
    "\n",
    "#引入相关库\n",
    "import cv2\n",
    "from matplotlib import pyplot as plt\n",
    "import tensorflow as tf\n",
    "import datetime"
   ]
  },
  {
   "cell_type": "code",
   "execution_count": null,
   "metadata": {},
   "outputs": [],
   "source": [
    "# 下载mnist数据集\n",
    "mnist = tf.keras.datasets.mnist\n",
    "(x_train, y_train), (x_test, y_test) = mnist.load_data()\n",
    "x_train, x_test = x_train / 255.0, x_test / 255.0"
   ]
  },
  {
   "cell_type": "code",
   "execution_count": null,
   "metadata": {},
   "outputs": [],
   "source": [
    "# 数据集维度\n",
    "print(x_test.shape,y_test.shape)"
   ]
  },
  {
   "cell_type": "code",
   "execution_count": null,
   "metadata": {},
   "outputs": [],
   "source": [
    "#查看下数据集\n",
    "plt.imshow(x_test[1882])\n",
    "plt.show()"
   ]
  },
  {
   "cell_type": "code",
   "execution_count": null,
   "metadata": {},
   "outputs": [],
   "source": [
    "#模型定义\n",
    "model = tf.keras.models.Sequential([\n",
    "  tf.keras.layers.Flatten(input_shape=(28, 28)),\n",
    "  tf.keras.layers.Dense(10, activation='relu'),\n",
    "  #tf.keras.layers.Dropout(0.2),\n",
    "  tf.keras.layers.Dense(10, activation='relu'),\n",
    "  tf.keras.layers.Dense(10, activation='softmax')\n",
    "])\n",
    "\n",
    "model.compile(optimizer='adam',\n",
    "              loss='sparse_categorical_crossentropy',\n",
    "              metrics=['accuracy'])"
   ]
  },
  {
   "cell_type": "code",
   "execution_count": null,
   "metadata": {},
   "outputs": [],
   "source": [
    "#训练开始\n",
    "model.fit(x_train, y_train, epochs=5)\n",
    "#评估模型\n",
    "model.evaluate(x_test,  y_test, verbose=2)"
   ]
  },
  {
   "cell_type": "markdown",
   "metadata": {},
   "source": [
    "# 颜色分类 v1.0"
   ]
  },
  {
   "cell_type": "markdown",
   "metadata": {},
   "source": [
    "### 使用 Pandas 处理数据"
   ]
  },
  {
   "cell_type": "code",
   "execution_count": null,
   "metadata": {},
   "outputs": [],
   "source": [
    "#使用 Pandas 创建一个 dataframe\n",
    "import pandas as pd\n",
    "dataframe=pd.read_json(\"data/colorData.json\",orient=\"records\")"
   ]
  },
  {
   "cell_type": "code",
   "execution_count": null,
   "metadata": {},
   "outputs": [],
   "source": [
    "#预览下前面几条数据\n",
    "dataframe.head()"
   ]
  },
  {
   "cell_type": "code",
   "execution_count": null,
   "metadata": {},
   "outputs": [],
   "source": [
    "#查看下数据类型\n",
    "dataframe.dtypes"
   ]
  },
  {
   "cell_type": "code",
   "execution_count": null,
   "metadata": {},
   "outputs": [],
   "source": [
    "#label需要转成int\n",
    "dataframe['label'] = pd.Categorical(dataframe['label'])\n",
    "dataframe['label'] = dataframe.label.cat.codes"
   ]
  },
  {
   "cell_type": "code",
   "execution_count": null,
   "metadata": {},
   "outputs": [],
   "source": [
    "# 获取标签名称\n",
    "#code--label\n",
    "def get_label_name(label=0):\n",
    "    labels=pd.Categorical(['brown-ish','blue-ish', 'green-ish', 'grey-ish', 'orange-ish',\n",
    "           'pink-ish', 'purple-ish', 'red-ish', 'yellow-ish'])\n",
    "    index=labels.codes.tolist().index(label)\n",
    "    return labels.categories.tolist()[index]"
   ]
  },
  {
   "cell_type": "code",
   "execution_count": null,
   "metadata": {},
   "outputs": [],
   "source": [
    "# 测试下\n",
    "get_label_name(3)"
   ]
  },
  {
   "cell_type": "code",
   "execution_count": null,
   "metadata": {},
   "outputs": [],
   "source": [
    "#查看标签分布\n",
    "dataframe.loc[:,'label'].value_counts()"
   ]
  },
  {
   "cell_type": "code",
   "execution_count": null,
   "metadata": {},
   "outputs": [],
   "source": [
    "#准备训练数据\n",
    "dataframe=dataframe[['r','g','b','label']]"
   ]
  },
  {
   "cell_type": "markdown",
   "metadata": {},
   "source": [
    "### 制作数据集"
   ]
  },
  {
   "cell_type": "code",
   "execution_count": null,
   "metadata": {},
   "outputs": [],
   "source": [
    "#分割成训练集、验证集、测试集\n",
    "from sklearn.model_selection import train_test_split\n",
    "\n",
    "df=dataframe.copy()\n",
    "\n",
    "train, test = train_test_split(df, test_size=0.1)\n",
    "train, val = train_test_split(train, test_size=0.1)\n",
    "print(len(train), 'train examples')\n",
    "print(len(val), 'validation examples')\n",
    "print(len(test), 'test examples')"
   ]
  },
  {
   "cell_type": "code",
   "execution_count": null,
   "metadata": {},
   "outputs": [],
   "source": [
    "# 一种从 Pandas Dataframe 创建 tf.data 数据集的实用程序方法（utility method）\n",
    "def df_to_dataset(dataframe, shuffle=True, batch_size=32):\n",
    "    x = dataframe.copy()\n",
    "    x=x.astype('float64')\n",
    "    y = x.pop('label')\n",
    "    ds = tf.data.Dataset.from_tensor_slices((x.values, y.values))\n",
    "    if shuffle:\n",
    "        ds = ds.shuffle(buffer_size=len(dataframe))\n",
    "    ds = ds.batch(batch_size)\n",
    "    return ds"
   ]
  },
  {
   "cell_type": "code",
   "execution_count": null,
   "metadata": {},
   "outputs": [],
   "source": [
    "#参数\n",
    "\n",
    "#Batch Size：一次训练所选取的样本数。\n",
    "BATCH_SIZE=64\n",
    "#失活率(Dropout Rate) 每层中丢弃的神经元占整层神经元的比率\n",
    "DROPOUT_RATE=0.1045\n",
    "#轮次，整个输入数据的单次前向和反向传递\n",
    "EPOCHS=100\n",
    "\n",
    "log_dir = \"logs/fit/DROPOUT_RATE_\" + str(DROPOUT_RATE)+\"_\"+datetime.datetime.now().strftime(\"%Y%m%d-%H%M%S\")\n",
    "tensorboard_callback = tf.keras.callbacks.TensorBoard(log_dir=log_dir, histogram_freq=1)\n",
    "\n"
   ]
  },
  {
   "cell_type": "code",
   "execution_count": null,
   "metadata": {},
   "outputs": [],
   "source": [
    "train_ds=df_to_dataset(train,batch_size=BATCH_SIZE)\n",
    "val_ds=df_to_dataset(val,batch_size=BATCH_SIZE)\n",
    "test_ds=df_to_dataset(test,batch_size=BATCH_SIZE)"
   ]
  },
  {
   "cell_type": "code",
   "execution_count": null,
   "metadata": {},
   "outputs": [],
   "source": [
    "for f in train_ds.take(1):\n",
    "    print(f)"
   ]
  },
  {
   "cell_type": "markdown",
   "metadata": {},
   "source": [
    "### 模型"
   ]
  },
  {
   "cell_type": "code",
   "execution_count": null,
   "metadata": {
    "scrolled": true
   },
   "outputs": [],
   "source": [
    "model = tf.keras.Sequential([\n",
    "  tf.keras.layers.Dense(12, input_shape=(3,),activation='softplus'),\n",
    "  tf.keras.layers.Dense(48, activation='relu'),\n",
    "  tf.keras.layers.Dropout(DROPOUT_RATE),\n",
    "  tf.keras.layers.Dense(128, activation='relu'),\n",
    "  tf.keras.layers.Dropout(DROPOUT_RATE),\n",
    "  tf.keras.layers.Dense(48, activation='relu'),\n",
    "  tf.keras.layers.Dense(9, activation='softmax')\n",
    "])\n",
    "\n",
    "#optimizer=tf.keras.optimizers.SGD(learning_rate=0.25)\n",
    "\n",
    "model.compile(optimizer='adam',\n",
    "              loss='sparse_categorical_crossentropy',\n",
    "              metrics=['accuracy'])\n",
    "\n",
    "model.summary()\n"
   ]
  },
  {
   "cell_type": "code",
   "execution_count": null,
   "metadata": {},
   "outputs": [],
   "source": [
    "model.fit(train_ds,\n",
    "          validation_data=val_ds,\n",
    "          epochs=EPOCHS,\n",
    "             callbacks=[tensorboard_callback])\n",
    "\n"
   ]
  },
  {
   "cell_type": "code",
   "execution_count": null,
   "metadata": {},
   "outputs": [],
   "source": [
    "%tensorboard --logdir logs/fit"
   ]
  },
  {
   "cell_type": "code",
   "execution_count": null,
   "metadata": {
    "scrolled": true
   },
   "outputs": [],
   "source": [
    "test_loss, test_acc = model.evaluate(test_ds, verbose=2)\n",
    "print('\\nTest accuracy:', test_acc)"
   ]
  },
  {
   "cell_type": "markdown",
   "metadata": {},
   "source": [
    "### 预测"
   ]
  },
  {
   "cell_type": "code",
   "execution_count": null,
   "metadata": {},
   "outputs": [],
   "source": [
    "probability_model = tf.keras.Sequential([model, \n",
    "                                         tf.keras.layers.Softmax()])"
   ]
  },
  {
   "cell_type": "code",
   "execution_count": null,
   "metadata": {},
   "outputs": [],
   "source": [
    "import numpy as np\n",
    "predictions = probability_model.predict(np.array([[110,2,25]]))"
   ]
  },
  {
   "cell_type": "code",
   "execution_count": null,
   "metadata": {},
   "outputs": [],
   "source": [
    "predictions[0]"
   ]
  },
  {
   "cell_type": "code",
   "execution_count": null,
   "metadata": {},
   "outputs": [],
   "source": [
    "get_label_name(np.argmax(predictions[0]))"
   ]
  },
  {
   "cell_type": "code",
   "execution_count": null,
   "metadata": {},
   "outputs": [],
   "source": [
    "test"
   ]
  },
  {
   "cell_type": "markdown",
   "metadata": {},
   "source": [
    "# RGB转HSV\n",
    "### rgb->hsv"
   ]
  },
  {
   "cell_type": "code",
   "execution_count": null,
   "metadata": {},
   "outputs": [],
   "source": [
    "import cv2\n",
    "# opencv\n",
    "import numpy as np\n",
    "from matplotlib import pyplot as plt"
   ]
  },
  {
   "cell_type": "code",
   "execution_count": null,
   "metadata": {},
   "outputs": [],
   "source": [
    "#创建一张黑色的图片\n",
    "img = np.zeros((28,32), np.float32)\n",
    "print(img.shape)\n",
    "img = cv2.cvtColor(img, cv2.COLOR_GRAY2BGR)\n",
    "print(img.shape)\n",
    "plt.imshow(img)\n",
    "plt.show()"
   ]
  },
  {
   "cell_type": "code",
   "execution_count": null,
   "metadata": {},
   "outputs": [],
   "source": [
    "rgb_to_hsv([110,2,25])"
   ]
  },
  {
   "cell_type": "code",
   "execution_count": null,
   "metadata": {},
   "outputs": [],
   "source": [
    "'''\n",
    "HSV颜色空间规定:H范围0~360,S范围0~1,V范围0~1 \n",
    "\n",
    "PS中的HSV范围，H是0-360，S是0-1，V（B）是0-1\n",
    "\n",
    "opencv中的HSV范围，H是0-180，S是0-255，V是0-255\n",
    "\n",
    "'''\n",
    "\n",
    "# h:0-360 , s:0-255, v:0-255\n",
    "# r:0-255, g:0-255, b:0-255\n",
    "def rgb_to_hsv(rgb=[]):\n",
    "    img=np.array([[rgb]],np.uint8)\n",
    "    #print(img)\n",
    "    #print(img)\n",
    "    plt.imshow(img)\n",
    "    plt.show()\n",
    "    img_hsv = cv2.cvtColor(img, cv2.COLOR_RGB2HSV)\n",
    "    img_hsv[0][0]*=2\n",
    "    #print(img_hsv)\n",
    "    return img_hsv\n",
    "\n",
    "\n",
    "def hsv_to_rgb(hsv=[]):\n",
    "    hsv[0]/=2\n",
    "    img_hsv=np.array([[hsv]],np.uint8)\n",
    "    img_rgb = cv2.cvtColor(img_hsv, cv2.COLOR_HSV2RGB)\n",
    "    plt.imshow(img_rgb)\n",
    "    plt.show()\n",
    "    return img_rgb\n",
    "\n",
    "#rgb_to_hsv([250,0,0])\n",
    "#hsv_to_rgb([360,255,255])\n",
    "\n",
    "# 从h=0 开始旋转，每18°取一组颜色，作为配色方案\n",
    "for i in range(0,360,18):\n",
    "    #print(i)\n",
    "    a=hsv_to_rgb([i,255,255])\n",
    "    b=hsv_to_rgb([i+18,255,255])\n",
    "    print(a,b)"
   ]
  },
  {
   "cell_type": "code",
   "execution_count": null,
   "metadata": {},
   "outputs": [],
   "source": []
  },
  {
   "cell_type": "code",
   "execution_count": null,
   "metadata": {},
   "outputs": [],
   "source": []
  },
  {
   "cell_type": "code",
   "execution_count": null,
   "metadata": {},
   "outputs": [],
   "source": [
    "#opencv读取图片，默认是BGR\n",
    "img=cv2.imread('img/test.jpg',cv2.IMREAD_COLOR)\n",
    "img=cv2.cvtColor(img, cv2.COLOR_BGR2RGB)\n",
    "plt.imshow(img)\n",
    "plt.show()"
   ]
  },
  {
   "cell_type": "code",
   "execution_count": null,
   "metadata": {},
   "outputs": [],
   "source": []
  }
 ],
 "metadata": {
  "kernelspec": {
   "display_name": "Python 3",
   "language": "python",
   "name": "python3"
  },
  "language_info": {
   "codemirror_mode": {
    "name": "ipython",
    "version": 3
   },
   "file_extension": ".py",
   "mimetype": "text/x-python",
   "name": "python",
   "nbconvert_exporter": "python",
   "pygments_lexer": "ipython3",
   "version": "3.7.6"
  }
 },
 "nbformat": 4,
 "nbformat_minor": 4
}
